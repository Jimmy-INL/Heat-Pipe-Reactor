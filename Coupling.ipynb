{
 "cells": [
  {
   "cell_type": "code",
   "execution_count": 1,
   "metadata": {},
   "outputs": [],
   "source": [
    "%matplotlib inline\n",
    "from IPython.display import Image\n",
    "import numpy.matlib\n",
    "import numpy as np\n",
    "import matplotlib.pyplot as plt\n",
    "import pandas as pd\n",
    "import scipy.stats\n",
    "import openpyxl\n",
    "from scipy.optimize import curve_fit\n",
    "from mpl_toolkits.mplot3d import Axes3D\n",
    "\n",
    "import xml.etree.ElementTree as ET\n",
    "from subprocess import call\n",
    "import vtk\n",
    "from vtk.util.numpy_support import vtk_to_numpy\n",
    "from scipy.interpolate import griddata\n",
    "\n",
    "import openmc\n",
    "\n",
    "import Define_Nektar\n",
    "import Define_OpenMC\n",
    "\n",
    "import os"
   ]
  },
  {
   "cell_type": "markdown",
   "metadata": {},
   "source": [
    "# Instructions (version 0.0.1)\n",
    "# Before use: Make sure that there is no .vtu or .fld existing in folder !!!!!\n",
    "# This might cause some unexpected bugs!!!!!\n",
    "\n",
    "This is simulation code for heat pipe reactor (KRUSTY 1/8 model).\n",
    "\n",
    "Completed:\n",
    "(a)Neutronics calculation\n",
    "(b)Temperature calculation in solid area\n",
    "\n",
    "To do:\n",
    "(a)Fluid calculation in heat pipe\n",
    "(b)Thermal expansion calculation\n",
    "(c)Burn-up calculation\n",
    "(d)3D-modeling\n",
    "\n",
    "\n",
    "1.Unit: length(cm),temperature(K), others are SI units\n",
    "\n",
    "2.Define_OpenMC.py includes functions for operating OpenMC:\n",
    "\n",
    "    (a)define_Geo_Mat_Set: This function is used to generate  geometry.xml, material.xml and settings.xml\n",
    "    \n",
    "    (b)postProcess: This function is used to post-proccess heating source distribution and generate forcing function for Nektar++\n",
    "    \n",
    "    (c)editCellTemperature: This function is used to edit temperature of cells in geometry.xml\n",
    "\n",
    "3.Define_Nektar.py includes functions for operating Nektar++:\n",
    "\n",
    "    (a)runNektar: Just as its name. Of cause, It can generate .fld and convert it to .vtu that we need\n",
    "    \n",
    "    (b)postProcess: It can post-process results of temperature and generate temperature function in fuel area and coefficients of this function\n",
    "    \n",
    "    (c)fuelTemperature: It can use temperature function to generate avarage temperature in cells\n",
    "\n",
    "For more details, please check codes respectively"
   ]
  },
  {
   "cell_type": "code",
   "execution_count": 2,
   "metadata": {},
   "outputs": [],
   "source": [
    "# Number of cells for tallies\n",
    "n_inner = 20\n",
    "n_outer = 10\n",
    "n_cells = n_inner + n_outer\n",
    "# Initial fuel temperature distribution in cells: 1173.5K\n",
    "temp_cell = 1173.5*np.ones(n_cells)\n",
    "# Heat power: 4 kW\n",
    "heat_power = 4000 \n",
    "# Initial fuel temperature function in fuel area\n",
    "temp_function = '1173.5'\n",
    "# Initial heat pipe temperature\n",
    "temp_pipe = 840\n",
    "# Define running settings for OpenMC\n",
    "batches = 30\n",
    "inactive = 10 \n",
    "particles = 1000\n",
    "# Define running settings for Nektar++\n",
    "file_name = 'HeatPipe_3' # fiel_name.xml with settings of Poisson solver\n",
    "solver_name = 'ADRSolver' \n",
    "# Number of iteration\n",
    "iteration = 10\n",
    "# Get some data \n",
    "r_cells,volume_cells,fuel_cells_ID_list = Define_OpenMC.define_Geo_Mat_Set(n_inner,n_outer,temp_cell,batches,inactive,particles)\n",
    "# Relative error\n",
    "error_vec = np.zeros(iteration)"
   ]
  },
  {
   "cell_type": "code",
   "execution_count": 4,
   "metadata": {},
   "outputs": [
    {
     "name": "stdout",
     "output_type": "stream",
     "text": [
      "iteration = 0\n",
      "iteration = 1\n",
      "iteration = 2\n",
      "iteration = 3\n",
      "iteration = 4\n",
      "iteration = 5\n",
      "iteration = 6\n",
      "iteration = 7\n",
      "iteration = 8\n",
      "iteration = 9\n"
     ]
    }
   ],
   "source": [
    "for i in range(iteration):\n",
    "    \n",
    "    # Iteration\n",
    "    print('iteration = '+str(i))\n",
    "    temp_cell_last = temp_cell\n",
    "    # Run!\n",
    "    openmc.run(output=False)\n",
    "    forcing_function = Define_OpenMC.postProcess(heat_power,temp_function,r_cells,volume_cells,fuel_cells_ID_list,batches)\n",
    "    file_name_new = Define_Nektar.runNektar(file_name,forcing_function,solver_name,temp_pipe,i)\n",
    "    temp_dist,x,y,function_coef,temp_function = Define_Nektar.postProcess(file_name_new)\n",
    "    \n",
    "    temp_cell = Define_Nektar.cellTemperature(r_cells,function_coef)\n",
    "    Define_OpenMC.editCellTemperature(temp_cell,fuel_cells_ID_list)\n",
    "    \n",
    "    # Calculate relative error\n",
    "    error = np.abs(temp_cell-temp_cell_last)/temp_cell_last\n",
    "    error_vec[i] = error.sum()/len(error)"
   ]
  },
  {
   "cell_type": "code",
   "execution_count": 5,
   "metadata": {},
   "outputs": [
    {
     "name": "stdout",
     "output_type": "stream",
     "text": [
      "[1.01004562e-01 0.00000000e+00 9.22097597e-03 6.29473522e-10\n",
      " 2.61332800e-03 1.38981879e-10 1.15830727e-03 1.10635537e-09\n",
      " 7.42821098e-04 4.09209576e-10]\n"
     ]
    }
   ],
   "source": [
    "print(error_vec)"
   ]
  },
  {
   "cell_type": "code",
   "execution_count": 6,
   "metadata": {},
   "outputs": [
    {
     "data": {
      "image/png": "[encoded data removed]",
      "text/plain": [
       "<Figure size 432x288 with 1 Axes>"
      ]
     },
     "metadata": {
      "needs_background": "light"
     },
     "output_type": "display_data"
    }
   ],
   "source": [
    "iteration_vec = np.linspace(1,iteration,iteration)\n",
    "plt.plot(iteration_vec,error_vec)\n",
    "plt.xlabel('Iteration')\n",
    "plt.ylabel('Relative error')\n",
    "plt.show()"
   ]
  },
  {
   "cell_type": "code",
   "execution_count": null,
   "metadata": {},
   "outputs": [],
   "source": []
  }
 ],
 "metadata": {
  "kernelspec": {
   "display_name": "Python 3",
   "language": "python",
   "name": "python3"
  },
  "language_info": {
   "codemirror_mode": {
    "name": "ipython",
    "version": 3
   },
   "file_extension": ".py",
   "mimetype": "text/x-python",
   "name": "python",
   "nbconvert_exporter": "python",
   "pygments_lexer": "ipython3",
   "version": "3.7.4"
  }
 },
 "nbformat": 4,
 "nbformat_minor": 2
}
