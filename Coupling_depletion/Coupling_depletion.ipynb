{
 "cells": [
  {
   "cell_type": "code",
   "execution_count": 1,
   "metadata": {},
   "outputs": [],
   "source": [
    "%matplotlib inline\n",
    "from IPython.display import Image\n",
    "import numpy.matlib\n",
    "import numpy as np\n",
    "import matplotlib.pyplot as plt\n",
    "import seaborn as sns\n",
    "import pandas as pd\n",
    "import scipy.stats\n",
    "import openpyxl\n",
    "from scipy.optimize import curve_fit\n",
    "from mpl_toolkits.mplot3d import Axes3D\n",
    "\n",
    "import xml.etree.ElementTree as ET\n",
    "from subprocess import call\n",
    "import vtk\n",
    "from vtk.util.numpy_support import vtk_to_numpy\n",
    "from scipy.interpolate import griddata\n",
    "\n",
    "import openmc\n",
    "\n",
    "import Define_Nektar\n",
    "import Define_OpenMC\n",
    "import CouplingDepletion\n",
    "\n",
    "import os\n",
    "import time\n",
    "import shutil\n",
    "\n",
    "import warnings\n",
    "warnings.filterwarnings(\"ignore\")"
   ]
  },
  {
   "cell_type": "code",
   "execution_count": 2,
   "metadata": {
    "scrolled": false
   },
   "outputs": [],
   "source": [
    "# Parameters of reactor\n",
    "# Unit: cm\n",
    "# To be discussed: Parameters for reactor to become critical\n",
    "parameters_dic = {}\n",
    "\n",
    "parameters_dic.update(fuel_r = 11/2)\n",
    "parameters_dic.update(fuel_h = 19.5)\n",
    "\n",
    "parameters_dic.update(controlRod_r = 4.4/2)\n",
    "parameters_dic.update(controlRod_h_max = 27)\n",
    "parameters_dic.update(controlRod_l = 24.5)\n",
    "\n",
    "parameters_dic.update(reflector_r = 42/2)\n",
    "\n",
    "parameters_dic.update(heat_pipe_R = 1.27/2)\n",
    "parameters_dic.update(heat_pipe_r = 1.27/2-0.1)\n",
    "\n",
    "parameters_dic.update(top_distance = 10.5)\n",
    "parameters_dic.update(bottom_distance = 5)\n",
    "\n",
    "parameters_dic.update(heat_power = 4000)\n",
    "\n",
    "parameters_dic.update(reflector_h = parameters_dic['top_distance']+parameters_dic['bottom_distance']+parameters_dic['fuel_h'])\n",
    "\n",
    "temp_pipe = 1073.5\n",
    "# Insert control rod, maximum is 27\n",
    "controlRod_deep = 0\n",
    "empty_reflector_height = 0\n",
    "# Number of cells\n",
    "cells_num_dic = {'n_r':1,'n_r_outer':1,'n_h':1}\n",
    "# Settings of OpenMC\n",
    "settings_MC_dic = {'batches':150,'inactive':50,'particles':1000,'temperature_update':True}\n",
    "#Settings of Nektar++\n",
    "settings_nek_dic = {'file_name':'HeatPipeReactor_3','solver_name':'ADRSolver'}\n",
    "# fiel_name.xml with settings of Poisson solver\n",
    "# Settings of Coupling\n",
    "settings_dic = {'settings_MC_dic':settings_MC_dic,'settings_nek_dic': settings_nek_dic}\n",
    "settings_dic.update(temperature_update = False)\n",
    "settings_dic.update(iteration = 3)\n",
    "settings_dic.update(time_steps = [30 * 24 * 60 * 60] * 3)\n",
    "settings_dic.update(chain = 'chain_casl_sfr.xml')\n",
    "# Initial temperature distribution in cells\n",
    "Initial_temp = 1073.5\n",
    "# Get some data\n",
    "# volume_mat,fuel_cell_ID_list = Define_OpenMC.define_Geo_Mat_Set(cells_num_dic,parameters_dic,settings_dic,temp_cells_mat,controlRod_deep,empty_reflector_height)"
   ]
  },
  {
   "cell_type": "code",
   "execution_count": null,
   "metadata": {},
   "outputs": [
    {
     "name": "stdout",
     "output_type": "stream",
     "text": [
      "====================Burn-up step1 begins====================\n",
      "Asuka\n",
      "====================Iteration1 begins====================\n",
      "Saito\n",
      "Momoko\n",
      "Iteration 1: OpenMC run time:203.0220170021057\n",
      "Iteration 1: k_eff:1.0052909747481868 k_eff_dev:0.002752657393160392\n",
      "Iteration 1: OpenMC post-process time:31.294835567474365\n",
      "Iteration 1 Nektar run time:572.1888036727905\n",
      "Iteration 1 Nektar post-process time:2.5610575675964355\n",
      "Maximum relative error: 0.01998498320407417\n",
      "Total time: 810.0182843208313\n",
      "Momoko\n",
      "====================Iteration2 begins====================\n",
      "Asuka\n",
      "Momoko\n",
      "Iteration 2: OpenMC run time:157.67428731918335\n",
      "Iteration 2: k_eff:1.003951970480911 k_eff_dev:0.002741643803066174\n",
      "Iteration 2: OpenMC post-process time:19.16286540031433\n",
      "Iteration 2 Nektar run time:216.99044227600098\n",
      "Iteration 2 Nektar post-process time:2.050424098968506\n",
      "Maximum relative error: 0.0003734300596121091\n",
      "Total time: 396.83219170570374\n",
      "====================Burn-up step2 begins====================\n",
      "Hinako\n",
      "====================Iteration1 begins====================\n",
      "Asuka\n",
      "Momoko\n",
      "Iteration 1: OpenMC run time:125.51549530029297\n",
      "Iteration 1: k_eff:1.0100977658828687 k_eff_dev:0.0026946155512740048\n",
      "Iteration 1: OpenMC post-process time:19.29118537902832\n",
      "Iteration 1 Nektar run time:215.95138669013977\n",
      "Iteration 1 Nektar post-process time:2.175692319869995\n",
      "Maximum relative error: 2.255453812109333e-05\n",
      "Total time: 363.65543127059937\n",
      "====================Burn-up step3 begins====================\n",
      "Hinako\n",
      "====================Iteration1 begins====================\n",
      "Asuka\n",
      "Momoko\n",
      "Iteration 1: OpenMC run time:129.86974930763245\n",
      "Iteration 1: k_eff:1.0081265607489585 k_eff_dev:0.003173635261966232\n",
      "Iteration 1: OpenMC post-process time:18.6645565032959\n",
      "Iteration 1 Nektar run time:215.78406071662903\n",
      "Iteration 1 Nektar post-process time:2.05132794380188\n",
      "Maximum relative error: 3.069107483744833e-05\n",
      "Total time: 367.0595645904541\n",
      "====================Burn-up step4 begins====================\n",
      "Hinako\n",
      "====================Iteration1 begins====================\n"
     ]
    }
   ],
   "source": [
    "CouplingDepletion.main_Depletion(cells_num_dic,parameters_dic,settings_dic,Initial_temp,controlRod_deep,empty_reflector_height)"
   ]
  },
  {
   "cell_type": "code",
   "execution_count": 4,
   "metadata": {},
   "outputs": [],
   "source": [
    "results = openmc.deplete.ResultsList.from_hdf5(\"./depletion_results.h5\")"
   ]
  },
  {
   "cell_type": "code",
   "execution_count": 5,
   "metadata": {},
   "outputs": [
    {
     "data": {
      "text/plain": [
       "array([[1.00749217e+00, 9.38282831e-04],\n",
       "       [1.00749976e+00, 1.29555455e-03],\n",
       "       [1.00725055e+00, 1.19419465e-03],\n",
       "       [1.00685345e+00, 1.30932293e-03],\n",
       "       [1.00772421e+00, 1.25013080e-03]])"
      ]
     },
     "execution_count": 5,
     "metadata": {},
     "output_type": "execute_result"
    }
   ],
   "source": [
    "time, k = results.get_eigenvalue()\n",
    "k"
   ]
  },
  {
   "cell_type": "code",
   "execution_count": 3,
   "metadata": {},
   "outputs": [],
   "source": [
    "x,y,z = Define_Nektar.readNodesFromVtu(file_name)\n",
    "nodes_dic = {'x':x,'y':y,'z':z}\n",
    "# Initial temperature distribution in nodes\n",
    "temp_nodes_vec = Initial_temperature*np.ones(len(x))\n",
    "fuel_nodes_index = Define_OpenMC.getFuelNodesIndex(nodes_dic,parameters_dic)\n",
    "# For Test\n",
    "temp_error_vec = np.zeros(iteration)\n",
    "temp_ave_error_vec = np.zeros(iteration)\n",
    "\n",
    "k_eff_mean_vec = np.zeros(iteration)\n",
    "k_eff_dev_vec = np.zeros(iteration)\n",
    "\n",
    "heat_ratio = np.zeros(iteration)\n",
    "flux_ratio = np.zeros(iteration)\n",
    "\n",
    "num_col = cells_num_dic['n_h']*(cells_num_dic['n_r']+cells_num_dic['n_r_outer'])\n",
    "\n",
    "heat_mean_mat = np.zeros((iteration,num_col))\n",
    "heat_dev_mat = np.zeros((iteration,num_col))\n",
    "flux_mean_mat = np.zeros((iteration,num_col))\n",
    "flux_dev_mat = np.zeros((iteration,num_col))"
   ]
  },
  {
   "cell_type": "code",
   "execution_count": null,
   "metadata": {},
   "outputs": [],
   "source": [
    "for i in range(iteration):\n",
    "    start_tot = time.time()\n",
    "    # For Test\n",
    "    temp_cells_mat_last = temp_cells_mat\n",
    "    \n",
    "    # Iteration\n",
    "    print('Iteration: '+str(i+1)+' begins')\n",
    "    # Run OpenMC !\n",
    "    time_start = time.time()\n",
    "    openmc.run(output=False)\n",
    "    time_end = time.time()\n",
    "    print('Iteration: '+str(i+1)+' OpenMC run time:'+str(time_end-time_start))\n",
    "    \n",
    "    # Post-process the result of heat source and generate Force.pts\n",
    "    time_start = time.time()\n",
    "    k_eff,tally_dic = Define_OpenMC.postProcess(nodes_dic,volume_mat,temp_nodes_vec,fuel_nodes_index,parameters_dic,cells_num_dic,settings_dic,fuel_cell_ID_list)\n",
    "    time_end = time.time()\n",
    "    print('Iteration: '+str(i+1)+' OpenMC post-process time:'+str(time_end-time_start))\n",
    "    \n",
    "    # k-eff: mean value and standard deviation\n",
    "    k_eff_mean_vec[i] = k_eff.nominal_value\n",
    "    k_eff_dev_vec[i] = k_eff.std_dev\n",
    "    print('k_eff_mean: '+str(k_eff_mean_vec[i]))\n",
    "    print('k_eff_dev: '+str(k_eff_dev_vec[i]))\n",
    "  \n",
    "    # Heat and flux    \n",
    "    heat_mean_mat[i,:] = tally_dic['heat_mean']\n",
    "    heat_dev_mat[i,:] = tally_dic['heat_dev']\n",
    "    flux_mean_mat[i,:] = tally_dic['flux_mean']\n",
    "    flux_dev_mat[i,:] = tally_dic['flux_dev']\n",
    "    \n",
    "    if i>0:\n",
    "        heat_index = np.where((heat_mean_mat[i,:]<heat_mean_mat[i-1,:]+heat_dev_mat[i-1,:]) & (heat_mean_mat[i,:]>heat_mean_mat[i-1,:]-heat_dev_mat[i-1,:]))\n",
    "        flux_index = np.where((flux_mean_mat[i,:]<flux_mean_mat[i-1,:]+flux_dev_mat[i-1,:]) & (flux_mean_mat[i,:]>flux_mean_mat[i-1,:]-flux_dev_mat[i-1,:]))\n",
    "        heat_ratio[i] = len(heat_index[0])/num_col\n",
    "        flux_ratio[i] = len(flux_index[0])/num_col\n",
    "    \n",
    "    print('heat_ratio: '+str(heat_ratio[i]))\n",
    "    print('flux_ratio: '+str(flux_ratio[i]))\n",
    "    \n",
    "    # Run Nektar++\n",
    "    if os.path.exists(file_name+'.fld'):\n",
    "        os.remove(file_name+'.fld')\n",
    "    if os.path.exists(file_name+'.vtu'):\n",
    "        os.remove(file_name+'.vtu')    \n",
    "    \n",
    "    time_start = time.time()\n",
    "    file_name_new = Define_Nektar.runNektar_Temp(file_name,solver_name,temp_pipe,i)\n",
    "    time_end = time.time()\n",
    "    print('Iteration: '+str(i+1)+' Nektar run time:'+str(time_end-time_start))\n",
    "        \n",
    "    # Post-process result of temperature\n",
    "    time_start = time.time()\n",
    "    temp_nodes_vec = Define_Nektar.postProcess_Temp(file_name_new)\n",
    "    time_end = time.time()\n",
    "    print('Iteration: '+str(i+1)+' Nektar post-process time:'+str(time_end-time_start))\n",
    "    temp_cells_mat = Define_OpenMC.getCellTemperature(nodes_dic,temp_nodes_vec,fuel_nodes_index,parameters_dic,cells_num_dic)\n",
    "\n",
    "    volume_mat,fuel_cell_ID_list = Define_OpenMC.define_Geo_Mat_Set(cells_num_dic,parameters_dic,settings_dic,temp_cells_mat,controlRod_deep)\n",
    "    # For Test\n",
    "    \n",
    "    # Largest relative error of fuel temperature\n",
    "    temp_error = np.abs(temp_cells_mat-temp_cells_mat_last)/temp_cells_mat_last\n",
    "    temp_error_vec[i] = temp_error.max()\n",
    "    print('Maximum relative error: '+str(temp_error_vec[i]))\n",
    "    \n",
    "    # Average relative error of fuel temperature\n",
    "    temp_ave_error_vec[i] = temp_error.sum()/(np.size(temp_error,0)*np.size(temp_error,1))\n",
    "    print('Average relative error: '+str(temp_ave_error_vec[i]))\n",
    "    \n",
    "    end_tot = time.time()\n",
    "    print('Total time: '+str(end_tot-start_tot))\n",
    "    print('======================================')"
   ]
  },
  {
   "cell_type": "code",
   "execution_count": 1,
   "metadata": {},
   "outputs": [],
   "source": [
    "import datetime"
   ]
  },
  {
   "cell_type": "code",
   "execution_count": 2,
   "metadata": {},
   "outputs": [],
   "source": [
    "now_time = datetime.datetime.now()"
   ]
  },
  {
   "cell_type": "code",
   "execution_count": 3,
   "metadata": {},
   "outputs": [
    {
     "data": {
      "text/plain": [
       "datetime.datetime(2020, 2, 20, 12, 58, 18, 626906)"
      ]
     },
     "execution_count": 3,
     "metadata": {},
     "output_type": "execute_result"
    }
   ],
   "source": [
    "now_time"
   ]
  },
  {
   "cell_type": "code",
   "execution_count": 5,
   "metadata": {},
   "outputs": [],
   "source": [
    "time1_str = datetime.datetime.strftime(now_time,'%Y_%m_%d_%H_%M_%S')"
   ]
  },
  {
   "cell_type": "code",
   "execution_count": 6,
   "metadata": {},
   "outputs": [
    {
     "data": {
      "text/plain": [
       "'2020_02_20_12_58_18'"
      ]
     },
     "execution_count": 6,
     "metadata": {},
     "output_type": "execute_result"
    }
   ],
   "source": [
    "time1_str"
   ]
  },
  {
   "cell_type": "code",
   "execution_count": 7,
   "metadata": {},
   "outputs": [],
   "source": [
    "import os"
   ]
  },
  {
   "cell_type": "code",
   "execution_count": 12,
   "metadata": {},
   "outputs": [],
   "source": [
    "os.mkdir(time1_str)"
   ]
  },
  {
   "cell_type": "code",
   "execution_count": 9,
   "metadata": {},
   "outputs": [],
   "source": [
    "b = \"burn-up\""
   ]
  },
  {
   "cell_type": "code",
   "execution_count": 10,
   "metadata": {},
   "outputs": [],
   "source": [
    "file_path = b + time1_str"
   ]
  },
  {
   "cell_type": "code",
   "execution_count": 11,
   "metadata": {},
   "outputs": [
    {
     "name": "stdout",
     "output_type": "stream",
     "text": [
      "burn-up2020_02_20_12_58_18\n"
     ]
    }
   ],
   "source": [
    "print(file_path)"
   ]
  },
  {
   "cell_type": "code",
   "execution_count": 13,
   "metadata": {},
   "outputs": [],
   "source": [
    "import shutil"
   ]
  },
  {
   "cell_type": "code",
   "execution_count": 15,
   "metadata": {},
   "outputs": [
    {
     "data": {
      "text/plain": [
       "'2020_02_20_12_58_18/chain_casl_sfr.xml'"
      ]
     },
     "execution_count": 15,
     "metadata": {},
     "output_type": "execute_result"
    }
   ],
   "source": [
    "shutil.copy('chain_casl_sfr.xml',time1_str)"
   ]
  },
  {
   "cell_type": "code",
   "execution_count": null,
   "metadata": {},
   "outputs": [],
   "source": []
  }
 ],
 "metadata": {
  "kernelspec": {
   "display_name": "Python 3",
   "language": "python",
   "name": "python3"
  },
  "language_info": {
   "codemirror_mode": {
    "name": "ipython",
    "version": 3
   },
   "file_extension": ".py",
   "mimetype": "text/x-python",
   "name": "python",
   "nbconvert_exporter": "python",
   "pygments_lexer": "ipython3",
   "version": "3.7.4"
  }
 },
 "nbformat": 4,
 "nbformat_minor": 2
}
