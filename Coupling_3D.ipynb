{
 "cells": [
  {
   "cell_type": "code",
   "execution_count": 1,
   "metadata": {},
   "outputs": [],
   "source": [
    "%matplotlib inline\n",
    "from IPython.display import Image\n",
    "import numpy.matlib\n",
    "import numpy as np\n",
    "import matplotlib.pyplot as plt\n",
    "import pandas as pd\n",
    "import scipy.stats\n",
    "import openpyxl\n",
    "from scipy.optimize import curve_fit\n",
    "from mpl_toolkits.mplot3d import Axes3D\n",
    "\n",
    "import xml.etree.ElementTree as ET\n",
    "from subprocess import call\n",
    "import vtk\n",
    "from vtk.util.numpy_support import vtk_to_numpy\n",
    "from scipy.interpolate import griddata\n",
    "\n",
    "import openmc\n",
    "\n",
    "import Define_Nektar\n",
    "import Define_OpenMC\n",
    "\n",
    "import os\n",
    "import time"
   ]
  },
  {
   "cell_type": "code",
   "execution_count": 2,
   "metadata": {},
   "outputs": [],
   "source": [
    "# Parameters of reactor\n",
    "# Unit: cm\n",
    "# To be discussed: Parameters for reactor to become critical\n",
    "parameters_dic = {}\n",
    "\n",
    "parameters_dic.update(fuel_r = 11/2)\n",
    "parameters_dic.update(fuel_h = 19.5)\n",
    "\n",
    "parameters_dic.update(controlRod_r = 4.4/2)\n",
    "parameters_dic.update(controlRod_h_max = 27)\n",
    "parameters_dic.update(controlRod_l = 24.5)\n",
    "\n",
    "parameters_dic.update(reflector_r = 42/2)\n",
    "parameters_dic.update(reflector_h = 32)\n",
    "\n",
    "parameters_dic.update(heat_pipe_R = 1.27/2)\n",
    "parameters_dic.update(heat_pipe_r = 1.27/2-0.1)\n",
    "\n",
    "parameters_dic.update(top_distance = 10.5)\n",
    "parameters_dic.update(bottom_distance = 5)\n",
    "\n",
    "parameters_dic.update(heat_power = 4000)\n",
    "\n",
    "temp_pipe = 1173.5\n",
    "# Insert control rod, maximum is 27\n",
    "controlRod_deep = 0\n",
    "# Number of cells\n",
    "cells_num_dic = {'n_r':10,'n_r_outer':5,'n_h':20}\n",
    "# Settings of OpenMC\n",
    "settings_dic = {'batches':20,'inactive':10,'particles':1000}\n",
    "#Settings of Nektar++\n",
    "file_name = 'HeatPipeReactor_3' # fiel_name.xml with settings of Poisson solver\n",
    "solver_name = 'ADRSolver' \n",
    "# Number of iteration\n",
    "iteration = 1\n",
    "k_eff = np.zeros(iteration)\n",
    "# Initial temperature distribution in cells\n",
    "Initial_temperature = 1173.5\n",
    "temp_cells_mat = Initial_temperature*np.ones((cells_num_dic['n_h'],(cells_num_dic['n_r_outer']+cells_num_dic['n_r'])))\n",
    "# Get some data\n",
    "volume_mat,fuel_cell_ID_list = Define_OpenMC.define_Geo_Mat_Set(cells_num_dic,parameters_dic,settings_dic,temp_cells_mat,controlRod_deep)\n",
    "x,y,z = Define_Nektar.readNodesFromVtu(file_name)\n",
    "nodes_dic = {'x':x,'y':y,'z':z}\n",
    "# Initial temperature distribution in nodes\n",
    "temp_nodes_vec = Initial_temperature*np.ones(len(x))\n",
    "fuel_nodes_index = Define_OpenMC.getFuelNodesIndex(nodes_dic,parameters_dic)\n",
    "# For Test\n",
    "error_vec = np.zeros(iteration)"
   ]
  },
  {
   "cell_type": "code",
   "execution_count": 3,
   "metadata": {},
   "outputs": [
    {
     "name": "stdout",
     "output_type": "stream",
     "text": [
      "Iteration: 1 begins\n",
      "Iteration: 1 OpenMC run time:16.46897530555725\n",
      "17.199357986450195\n",
      "Iteration: 1 OpenMC post-process time:20.526274919509888\n",
      "Iteration: 1 Nektar run time:202.05716252326965\n",
      "Iteration: 1 Nektar post-process time:1.9292190074920654\n",
      "Total time: 241.07204174995422\n"
     ]
    }
   ],
   "source": [
    "for i in range(iteration):\n",
    "    start_tot = time.time()\n",
    "    # For Test\n",
    "    temp_cells_mat_last = temp_cells_mat\n",
    "    \n",
    "    # Iteration\n",
    "    print('Iteration: '+str(i+1)+' begins')\n",
    "    # Run OpenMC !\n",
    "    time_start = time.time()\n",
    "    openmc.run(output=False)\n",
    "    time_end = time.time()\n",
    "    print('Iteration: '+str(i+1)+' OpenMC run time:'+str(time_end-time_start))\n",
    "    \n",
    "    # Post-process the result of heat source and generate Force.pts\n",
    "    time_start = time.time()\n",
    "    k_ave = Define_OpenMC.postProcess(nodes_dic,volume_mat,temp_nodes_vec,fuel_nodes_index,parameters_dic,cells_num_dic,settings_dic,fuel_cell_ID_list)\n",
    "    time_end = time.time()\n",
    "    print('Iteration: '+str(i+1)+' OpenMC post-process time:'+str(time_end-time_start))\n",
    "    k_eff[i] = k_ave\n",
    "    \n",
    "    # Run Nektar++\n",
    "    time_start = time.time()\n",
    "    file_name_new = Define_Nektar.runNektar(file_name,solver_name,temp_pipe,i)\n",
    "    time_end = time.time()\n",
    "    print('Iteration: '+str(i+1)+' Nektar run time:'+str(time_end-time_start))\n",
    "        \n",
    "    # Post-process result of temperature\n",
    "    time_start = time.time()\n",
    "    temp_nodes_vec = Define_Nektar.postProcess(file_name_new)\n",
    "    time_end = time.time()\n",
    "    print('Iteration: '+str(i+1)+' Nektar post-process time:'+str(time_end-time_start))\n",
    "    temp_cells_mat = Define_OpenMC.getCellTemperature(nodes_dic,temp_nodes_vec,fuel_nodes_index,parameters_dic,cells_num_dic)\n",
    "\n",
    "    Define_OpenMC.editCellTemperature(temp_cells_mat,fuel_cell_ID_list)\n",
    "    # For Test\n",
    "\n",
    "    error = np.abs(temp_cells_mat-temp_cells_mat_last)/temp_cells_mat_last\n",
    "    error_vec[i] = error.sum()/(np.size(error,0)*np.size(error,1))\n",
    "    \n",
    "    end_tot = time.time()\n",
    "    print('Total time: '+str(end_tot-start_tot))"
   ]
  },
  {
   "cell_type": "code",
   "execution_count": 4,
   "metadata": {},
   "outputs": [
    {
     "data": {
      "image/png": "[encoded data removed]",
      "text/plain": [
       "<Figure size 432x288 with 1 Axes>"
      ]
     },
     "metadata": {
      "needs_background": "light"
     },
     "output_type": "display_data"
    }
   ],
   "source": [
    "iteration_vec = np.linspace(1,iteration,iteration)\n",
    "plt.plot(iteration_vec,error_vec)\n",
    "plt.xlabel('Iteration')\n",
    "plt.ylabel('Relative error of temperature in cells')\n",
    "plt.show()"
   ]
  },
  {
   "cell_type": "code",
   "execution_count": 5,
   "metadata": {},
   "outputs": [],
   "source": [
    "# iteration_vec = np.linspace(1,iteration,iteration)\n",
    "# plt.plot(iteration_vec,k_eff)\n",
    "# plt.xlabel('Iteration')\n",
    "# plt.ylabel('k-effective')\n",
    "# plt.show()"
   ]
  },
  {
   "cell_type": "code",
   "execution_count": null,
   "metadata": {},
   "outputs": [],
   "source": []
  }
 ],
 "metadata": {
  "kernelspec": {
   "display_name": "Python 3",
   "language": "python",
   "name": "python3"
  },
  "language_info": {
   "codemirror_mode": {
    "name": "ipython",
    "version": 3
   },
   "file_extension": ".py",
   "mimetype": "text/x-python",
   "name": "python",
   "nbconvert_exporter": "python",
   "pygments_lexer": "ipython3",
   "version": "3.7.4"
  }
 },
 "nbformat": 4,
 "nbformat_minor": 2
}
